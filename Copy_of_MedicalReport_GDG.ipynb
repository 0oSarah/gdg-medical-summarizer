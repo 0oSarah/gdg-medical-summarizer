{
  "nbformat": 4,
  "nbformat_minor": 0,
  "metadata": {
    "colab": {
      "provenance": [],
      "collapsed_sections": [
        "sJgvFClg7jK2",
        "uvYw9Nk39lwa",
        "utvxtIoE98OI",
        "tNnsUeTU-ZVv",
        "VWKh4PZY-jC1",
        "uKlArGVqAM6V",
        "ksR7GrnQAann",
        "K6GriamYAyFF",
        "J4AlkeOLBCim"
      ]
    },
    "kernelspec": {
      "name": "python3",
      "display_name": "Python 3"
    },
    "language_info": {
      "name": "python"
    }
  },
  "cells": [
    {
      "cell_type": "markdown",
      "source": [
        "# 📦 Step 1: Install Required Libraries\n",
        "\n",
        "- **google-generativeai**: To connect with Google Gemini AI models.\n",
        "- **PyMuPDF**: To read and extract text from PDF files.\n",
        "- **fpdf**: To create and save new PDF files.\n"
      ],
      "metadata": {
        "id": "sJgvFClg7jK2"
      }
    },
    {
      "cell_type": "code",
      "source": [
        "!pip uninstall -y fitz\n",
        "!pip uninstall -y PyMuPDF\n",
        "!pip install google-generativeai\n",
        "!pip install fpdf\n",
        "!pip install PyMuPDF"
      ],
      "metadata": {
        "id": "ji0kjze48wWa"
      },
      "execution_count": null,
      "outputs": []
    },
    {
      "cell_type": "markdown",
      "source": [
        "# 📚 Step 2: Import Required Libraries\n",
        "\n",
        "- **google.generativeai**: To connect and interact with Google Gemini AI models.\n",
        "- **fitz (PyMuPDF)**: To read and extract text from uploaded PDF files.\n",
        "- **google.colab.files**: To upload files from your computer into the Colab environment.\n",
        "- **fpdf (FPDF)**: To create and save new PDF documents containing the summarized text.\n"
      ],
      "metadata": {
        "id": "uvYw9Nk39lwa"
      }
    },
    {
      "cell_type": "code",
      "source": [
        "import google.generativeai as genai\n",
        "import fitz\n",
        "from google.colab import files\n",
        "from fpdf import FPDF"
      ],
      "metadata": {
        "id": "SxsLV13X9xtp"
      },
      "execution_count": null,
      "outputs": []
    },
    {
      "cell_type": "markdown",
      "source": [
        "# 📂 Step 3: Upload Your Medical Report (PDF)\n",
        "\n",
        "Now, let's upload the medical report you want to summarize.\n",
        "\n",
        "- Click the **\"Choose Files\"** button that appears after running the next cell.\n",
        "- Select a **PDF file** from your computer.\n",
        "\n"
      ],
      "metadata": {
        "id": "utvxtIoE98OI"
      }
    },
    {
      "cell_type": "code",
      "source": [],
      "metadata": {
        "id": "pFZygfhH-Gid"
      },
      "execution_count": null,
      "outputs": []
    },
    {
      "cell_type": "markdown",
      "source": [
        "# 📖 Step 4: Extract Text from the Uploaded PDF\n",
        "\n",
        "\n",
        "- We will use the **PyMuPDF** (`fitz`) library to open and read the PDF file.\n",
        "- The code will go through each page and extract all the text content.\n",
        "- Finally, it will print out a small preview (first 1000 characters) of the extracted text.\n",
        "\n"
      ],
      "metadata": {
        "id": "tNnsUeTU-ZVv"
      }
    },
    {
      "cell_type": "code",
      "source": [
        "import fitz\n",
        "\n",
        "# Function to extract text\n",
        "def extract_text_from_pdf(file_path):\n",
        "    doc = fitz.open(file_path)\n",
        "    text = \"\"\n",
        "    for page in doc:\n",
        "        text += page.get_text()\n",
        "    return text\n",
        "\n",
        "\n",
        "filename = list(uploaded.keys())[0]\n",
        "pdf_text = extract_text_from_pdf(filename)\n",
        "\n",
        "# Preview text\n",
        "print(\"Extracted Text from PDF:\\n\")\n",
        "print(pdf_text[:1000])"
      ],
      "metadata": {
        "id": "3PV-24m0-da8"
      },
      "execution_count": null,
      "outputs": []
    },
    {
      "cell_type": "markdown",
      "source": [
        "# 🔑 Step 5: Connect to Google Gemini AI with Your API Key\n",
        "\n",
        "Now, let's connect to Google Gemini AI so we can start generating summaries.\n",
        "\n",
        "- We will use your **Google AI Studio API Key** to authenticate.\n",
        "- The API key is a secret code that allows you to access Google's AI services.\n",
        "\n",
        "👉 **Important:**  \n",
        "If you haven't created an API key yet, visit [Google Cloud](https://console.cloud.google.com/) and create a new one for free.\n",
        "\n"
      ],
      "metadata": {
        "id": "VWKh4PZY-jC1"
      }
    },
    {
      "cell_type": "code",
      "source": [
        "GOOGLE_API_KEY = \"YOUR_OWN_API_KEY\"\n",
        "\n",
        "# Connect your API key\n",
        "genai.configure(api_key=GOOGLE_API_KEY)"
      ],
      "metadata": {
        "id": "HnW1vrqd-x9N"
      },
      "execution_count": null,
      "outputs": []
    },
    {
      "cell_type": "markdown",
      "source": [
        "# 🧠 Step 6: List Available Gemini Models\n",
        "\n",
        "Before we start summarizing, let's check which Gemini AI models are available for your account.\n",
        "\n",
        "- Different accounts may have access to different models (like `models/gemini-1.5-pro`, `models/gemini-1.5-flash`, etc.).\n",
        "- We will list all the models you can use by calling the `list_models()` function.\n",
        "\n"
      ],
      "metadata": {
        "id": "uKlArGVqAM6V"
      }
    },
    {
      "cell_type": "code",
      "source": [
        "models = genai.list_models()\n",
        "for model in models:\n",
        "    print(model.name)"
      ],
      "metadata": {
        "id": "K_Vtrtj8AXn1"
      },
      "execution_count": null,
      "outputs": []
    },
    {
      "cell_type": "markdown",
      "source": [
        "# ✍️ Step 7: Summarize the Extracted Medical Report\n",
        "\n",
        "Now that we have extracted text from the uploaded PDF and connected to Gemini AI, let's create a **summarization function**.\n",
        "\n",
        "- The function will send the extracted text to the Gemini model.\n",
        "- We will ask Gemini to **summarize the medical report** into **simple, patient-friendly language**.\n",
        "- The summarized output will help patients easily understand their medical condition.\n"
      ],
      "metadata": {
        "id": "ksR7GrnQAann"
      }
    },
    {
      "cell_type": "code",
      "source": [
        "# Summarization function\n",
        "def summarize_medical_report(report):\n",
        "    model = genai.GenerativeModel(model_name=\"models/gemini-1.5-pro\")\n",
        "    response = model.generate_content(\n",
        "        f\"You are a health assistant. Summarize the following doctor report in simple patient-friendly language:\\n\\n{report}\"\n",
        "    )\n",
        "    return response.text\n",
        "\n",
        "# Summarize the extracted text\n",
        "summary = summarize_medical_report(pdf_text)\n",
        "\n",
        "print(\"\\nSummarized Text:\\n\")\n",
        "print(summary)"
      ],
      "metadata": {
        "id": "EooXiC3bAp5w"
      },
      "execution_count": null,
      "outputs": []
    },
    {
      "cell_type": "markdown",
      "source": [
        "# 📄 Step 8: Save the Summarized Text into a New PDF\n",
        "\n",
        "Now that we have the simplified medical report, let's save it into a brand-new PDF file.\n",
        "\n",
        "- We will use the **FPDF** library to create a new PDF.\n",
        "- The summarized text will be added line-by-line into the PDF.\n",
        "- Finally, we will save the file with the name `summarized_medical_report.pdf`.\n"
      ],
      "metadata": {
        "id": "K6GriamYAyFF"
      }
    },
    {
      "cell_type": "code",
      "source": [
        "# Create a new PDF\n",
        "pdf = FPDF()\n",
        "pdf.add_page()\n",
        "pdf.set_font(\"Arial\", size=12)\n",
        "\n",
        "# Add summarized text\n",
        "lines = summary.split('\\n')\n",
        "for line in lines:\n",
        "    pdf.multi_cell(0, 10, line)\n",
        "\n",
        "# Save the new PDF\n",
        "output_path = \"summarized_medical_report.pdf\"\n",
        "pdf.output(output_path)\n",
        "\n",
        "print(f\"Summarized PDF saved as {output_path}\")"
      ],
      "metadata": {
        "id": "s5X5RQ4-A62F"
      },
      "execution_count": null,
      "outputs": []
    },
    {
      "cell_type": "markdown",
      "source": [
        "# 📥 Step 9: Download Your Summarized Medical Report (PDF)\n",
        "\n",
        "Now that we have created the summarized PDF file, let's download it to your computer.\n",
        "\n",
        "- The file `summarized_medical_report.pdf` is currently saved inside the Colab environment."
      ],
      "metadata": {
        "id": "J4AlkeOLBCim"
      }
    },
    {
      "cell_type": "code",
      "source": [
        "# Download the new summarized PDF\n",
        "files.download(output_path)\n"
      ],
      "metadata": {
        "id": "wsl5pC0oBFqv"
      },
      "execution_count": null,
      "outputs": []
    }
  ]
}